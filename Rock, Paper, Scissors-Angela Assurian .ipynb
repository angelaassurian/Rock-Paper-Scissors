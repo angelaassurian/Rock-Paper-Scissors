{
 "cells": [
  {
   "cell_type": "markdown",
   "id": "3b9ed0ed",
   "metadata": {},
   "source": [
    "## Create a program where the user can play a game of rock, paper, scissors against a computer. Set a play choice (rock, paper, or scissors) for the computer player and during the program, request for the user to input their play choice.\n",
    "\n",
    "### The rules in Rock, Paper, Scissors are:\n",
    "\n",
    "Rock beats scissors\n",
    "Scissors beats paper\n",
    "Paper beats rock\n",
    "If the user wins, then display \"You win!\" If they lose against the computer, then display \"You lose.\" If the computer and the user have the same play choice, display \"It's a draw.\"\n",
    "\n",
    "BONUS: Randomize the play choice for the computer (hint: Python has a library called random). Also ask the user if they would like to play again. If they do, start the game again but if not, thank the user for playing the game."
   ]
  },
  {
   "cell_type": "code",
   "execution_count": 31,
   "id": "d3259192",
   "metadata": {},
   "outputs": [],
   "source": [
    "def rockPaperScissors():\n",
    "    if choice==\"rock\" and compchoice==\"scissors\":\n",
    "        print(\"You win!\")\n",
    "    elif choice==\"rock\" and compchoice==\"rock\":\n",
    "        print(\"It's a draw!\")\n",
    "    elif choice==\"rock\" and compchoice==\"paper\":\n",
    "        print(\"You lose :(\")\n",
    "    elif choice==\"paper\" and compchoice==\"rock\":\n",
    "        print(\"You win!\")\n",
    "    elif choice==\"paper\" and compchoice==\"paper\":\n",
    "        print(\"It's a draw!\")\n",
    "    elif choice==\"paper\" and compchoice==\"scissors\":\n",
    "        print(\"You lose :(\")\n",
    "    elif choice==\"scissors\" and compchoice==\"paper\":\n",
    "        print(\"You win!\")\n",
    "    elif choice==\"scissors\" and compchoice==\"scissors\":\n",
    "        print(\"It's a draw!\")\n",
    "    elif choice==scissors and compchoice==rock:\n",
    "        print(\"You lose :(\")\n",
    "\n",
    "\n"
   ]
  },
  {
   "cell_type": "code",
   "execution_count": 34,
   "id": "314ef76b",
   "metadata": {},
   "outputs": [
    {
     "name": "stdout",
     "output_type": "stream",
     "text": [
      "\n",
      "\n",
      "*****Rock-Paper-Scissors******\n",
      "Enter rock, paper, or scissors: rock\n",
      "playing the game...\n",
      "Computer chose rock.\n",
      "You chose rock.\n",
      "It's a draw!\n",
      "do you wish to continue playing?(yes/no)yes\n",
      "\n",
      "\n",
      "*****Rock-Paper-Scissors******\n",
      "Enter rock, paper, or scissors: paper\n",
      "playing the game...\n",
      "Computer chose scissors.\n",
      "You chose paper.\n",
      "You lose :(\n",
      "do you wish to continue playing?(yes/no)yes\n",
      "\n",
      "\n",
      "*****Rock-Paper-Scissors******\n",
      "Enter rock, paper, or scissors: scissors\n",
      "playing the game...\n",
      "Computer chose paper.\n",
      "You chose scissors.\n",
      "You win!\n",
      "do you wish to continue playing?(yes/no)no\n",
      "\n",
      "\n",
      "Goodbye! :) \n"
     ]
    }
   ],
   "source": [
    "import random as rand\n",
    "\n",
    "cont=\"yes\" # must start(initialize) as yes otherwise will not run at all! \n",
    "\n",
    "while cont== \"yes\":\n",
    "    print()\n",
    "    print()\n",
    "    print(\"*****Rock-Paper-Scissors******\")\n",
    "    \n",
    "    choice=input(\"Enter rock, paper, or scissors: \")\n",
    "    \n",
    "    compchoices=[\"rock\",\"paper\",\"scissors\"]\n",
    "    i=rand.randint(0,2)\n",
    "    compchoice=compchoices[i]\n",
    "    \n",
    "    print(\"playing the game...\")\n",
    "    print(f\"Computer chose {compchoice}.\")\n",
    "    print(f\"You chose {choice}.\")\n",
    "    rockPaperScissors()\n",
    "    \n",
    "    cont=input(\"do you wish to continue playing?(yes/no)\")\n",
    "\n",
    "print()\n",
    "print()\n",
    "print(\"Goodbye! :) \")"
   ]
  }
 ],
 "metadata": {
  "kernelspec": {
   "display_name": "Python 3 (ipykernel)",
   "language": "python",
   "name": "python3"
  },
  "language_info": {
   "codemirror_mode": {
    "name": "ipython",
    "version": 3
   },
   "file_extension": ".py",
   "mimetype": "text/x-python",
   "name": "python",
   "nbconvert_exporter": "python",
   "pygments_lexer": "ipython3",
   "version": "3.9.7"
  }
 },
 "nbformat": 4,
 "nbformat_minor": 5
}
